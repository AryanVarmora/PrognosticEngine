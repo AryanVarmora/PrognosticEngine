{
 "cells": [
  {
   "cell_type": "code",
   "execution_count": 1,
   "metadata": {},
   "outputs": [
    {
     "name": "stdout",
     "output_type": "stream",
     "text": [
      "Loading data...\n",
      "Splitting features and target...\n",
      "Standardizing features...\n",
      "Splitting data into training and validation sets...\n",
      "Data preparation complete!\n",
      "Training data saved to: /Users/aryan/Desktop/PrognosticEngine/data/train_split.csv\n",
      "Validation data saved to: /Users/aryan/Desktop/PrognosticEngine/data/validation_split.csv\n"
     ]
    }
   ],
   "source": [
    "# Data Preparation Script: Splitting Engineered Dataset\n",
    "\n",
    "import pandas as pd\n",
    "from sklearn.model_selection import train_test_split\n",
    "from sklearn.preprocessing import StandardScaler\n",
    "import os\n",
    "\n",
    "# File paths\n",
    "INPUT_FILE = \"/Users/aryan/Desktop/PrognosticEngine/data/train_FD001_features.csv\"\n",
    "TRAIN_OUTPUT = \"/Users/aryan/Desktop/PrognosticEngine/data/train_split.csv\"\n",
    "VALIDATION_OUTPUT = \"/Users/aryan/Desktop/PrognosticEngine/data/validation_split.csv\"\n",
    "\n",
    "# Load the dataset\n",
    "def load_data(file_path):\n",
    "    \"\"\"Load the dataset into a Pandas DataFrame.\"\"\"\n",
    "    return pd.read_csv(file_path)\n",
    "\n",
    "# Split data into features and target\n",
    "def split_features_target(df, target_column='RUL'):\n",
    "    \"\"\"Split the dataset into features (X) and target (y).\"\"\"\n",
    "    X = df.drop(columns=[target_column])\n",
    "    y = df[target_column]\n",
    "    return X, y\n",
    "\n",
    "# Standardize features\n",
    "def standardize_features(X):\n",
    "    \"\"\"Standardize the feature set using StandardScaler.\"\"\"\n",
    "    scaler = StandardScaler()\n",
    "    X_scaled = scaler.fit_transform(X)\n",
    "    return X_scaled, scaler\n",
    "\n",
    "# Save split data\n",
    "def save_split_data(X, y, train_output, validation_output, test_size=0.2, random_state=42):\n",
    "    \"\"\"Split the data into training and validation sets and save them to CSV files.\"\"\"\n",
    "    X_train, X_val, y_train, y_val = train_test_split(X, y, test_size=test_size, random_state=random_state)\n",
    "\n",
    "    # Combine features and target for saving\n",
    "    train_data = pd.DataFrame(X_train, columns=X.columns)\n",
    "    train_data['RUL'] = y_train.values\n",
    "    train_data.to_csv(train_output, index=False)\n",
    "\n",
    "    val_data = pd.DataFrame(X_val, columns=X.columns)\n",
    "    val_data['RUL'] = y_val.values\n",
    "    val_data.to_csv(validation_output, index=False)\n",
    "\n",
    "if __name__ == \"__main__\":\n",
    "    print(\"Loading data...\")\n",
    "    data = load_data(INPUT_FILE)\n",
    "\n",
    "    print(\"Splitting features and target...\")\n",
    "    X, y = split_features_target(data)\n",
    "\n",
    "    print(\"Standardizing features...\")\n",
    "    X_scaled, scaler = standardize_features(X)\n",
    "\n",
    "    print(\"Splitting data into training and validation sets...\")\n",
    "    save_split_data(\n",
    "        pd.DataFrame(X_scaled, columns=X.columns),\n",
    "        y,\n",
    "        TRAIN_OUTPUT,\n",
    "        VALIDATION_OUTPUT\n",
    "    )\n",
    "\n",
    "    print(\"Data preparation complete!\")\n",
    "    print(f\"Training data saved to: {TRAIN_OUTPUT}\")\n",
    "    print(f\"Validation data saved to: {VALIDATION_OUTPUT}\")\n"
   ]
  }
 ],
 "metadata": {
  "kernelspec": {
   "display_name": "base",
   "language": "python",
   "name": "python3"
  },
  "language_info": {
   "codemirror_mode": {
    "name": "ipython",
    "version": 3
   },
   "file_extension": ".py",
   "mimetype": "text/x-python",
   "name": "python",
   "nbconvert_exporter": "python",
   "pygments_lexer": "ipython3",
   "version": "3.12.7"
  }
 },
 "nbformat": 4,
 "nbformat_minor": 2
}
