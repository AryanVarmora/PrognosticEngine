{
 "cells": [
  {
   "cell_type": "code",
   "execution_count": 6,
   "metadata": {},
   "outputs": [
    {
     "name": "stdout",
     "output_type": "stream",
     "text": [
      "Loading raw data...\n",
      "Calculating RUL...\n",
      "Dropping unused columns...\n",
      "Adding lag features...\n",
      "Adding rolling average features...\n",
      "Adding interaction features...\n",
      "Filling missing values...\n",
      "Saving enhanced engineered features...\n"
     ]
    },
    {
     "name": "stderr",
     "output_type": "stream",
     "text": [
      "/var/folders/qx/n7ss2hzs0t77_pr9dc9hq5180000gn/T/ipykernel_9222/1568117259.py:17: FutureWarning: The 'delim_whitespace' keyword in pd.read_csv is deprecated and will be removed in a future version. Use ``sep='\\s+'`` instead\n",
      "  df = pd.read_csv(file_path, delim_whitespace=True, header=None, names=column_names)\n",
      "/var/folders/qx/n7ss2hzs0t77_pr9dc9hq5180000gn/T/ipykernel_9222/1568117259.py:52: PerformanceWarning: DataFrame is highly fragmented.  This is usually the result of calling `frame.insert` many times, which has poor performance.  Consider joining all columns at once using pd.concat(axis=1) instead. To get a de-fragmented frame, use `newframe = frame.copy()`\n",
      "  df[f\"{col1}_x_{col2}\"] = df[col1] * df[col2]\n"
     ]
    },
    {
     "name": "stdout",
     "output_type": "stream",
     "text": [
      "Enhanced feature engineering complete! File saved at: /Users/aryan/Desktop/PrognosticEngine/data/train_FD001_features_enhanced.csv\n"
     ]
    }
   ],
   "source": [
    "# Enhanced Feature Engineering Script for CMAPSS Dataset\n",
    "\n",
    "import pandas as pd\n",
    "import numpy as np\n",
    "\n",
    "# File paths\n",
    "RAW_FILE = \"/Users/aryan/Desktop/PrognosticEngine/data/train_FD001.txt\"\n",
    "OUTPUT_FILE = \"/Users/aryan/Desktop/PrognosticEngine/data/train_FD001_features_enhanced.csv\"\n",
    "\n",
    "# Load the raw data\n",
    "def load_raw_data(file_path):\n",
    "    \"\"\"Load the raw dataset into a Pandas DataFrame.\"\"\"\n",
    "    column_names = [\n",
    "        'engine_id', 'cycle', 'operational_setting_1', 'operational_setting_2', 'operational_setting_3'\n",
    "    ] + [f'sensor_measurement_{i}' for i in range(1, 22)]\n",
    "\n",
    "    df = pd.read_csv(file_path, delim_whitespace=True, header=None, names=column_names)\n",
    "    return df\n",
    "\n",
    "# Calculate Remaining Useful Life (RUL)\n",
    "def calculate_rul(df):\n",
    "    \"\"\"Calculate RUL dynamically as the difference between max cycle and current cycle for each engine.\"\"\"\n",
    "    df['RUL'] = df.groupby('engine_id')['cycle'].transform('max') - df['cycle']\n",
    "    return df\n",
    "\n",
    "# Create lag features\n",
    "def add_lag_features(df, sensor_columns, lags=[1, 2, 3]):\n",
    "    \"\"\"Add lag features for specified sensor columns.\"\"\"\n",
    "    for lag in lags:\n",
    "        for col in sensor_columns:\n",
    "            df[f\"{col}_lag{lag}\"] = df.groupby('engine_id')[col].shift(lag)\n",
    "    return df\n",
    "\n",
    "# Create rolling average features\n",
    "def add_rolling_features(df, sensor_columns, windows=[3, 5]):\n",
    "    \"\"\"Add rolling average features for specified sensor columns.\"\"\"\n",
    "    for window in windows:\n",
    "        for col in sensor_columns:\n",
    "            df[f\"{col}_roll{window}\"] = df.groupby('engine_id')[col].rolling(window).mean().reset_index(0, drop=True)\n",
    "    return df\n",
    "\n",
    "# Create interaction features\n",
    "def add_interaction_features(df, sensor_columns):\n",
    "    \"\"\"Add interaction features by multiplying key sensors.\"\"\"\n",
    "    interaction_pairs = [\n",
    "        ('sensor_measurement_4', 'sensor_measurement_11'),\n",
    "        ('sensor_measurement_4', 'sensor_measurement_9'),\n",
    "        ('sensor_measurement_11', 'sensor_measurement_9')\n",
    "    ]\n",
    "    for col1, col2 in interaction_pairs:\n",
    "        if col1 in sensor_columns and col2 in sensor_columns:\n",
    "            df[f\"{col1}_x_{col2}\"] = df[col1] * df[col2]\n",
    "    return df\n",
    "\n",
    "# Drop columns with no useful data\n",
    "def drop_unused_columns(df, unused_columns):\n",
    "    \"\"\"Drop columns that contain only NaN or irrelevant values.\"\"\"\n",
    "    return df.drop(columns=unused_columns, errors='ignore')\n",
    "\n",
    "if __name__ == \"__main__\":\n",
    "    print(\"Loading raw data...\")\n",
    "    raw_df = load_raw_data(RAW_FILE)\n",
    "\n",
    "    print(\"Calculating RUL...\")\n",
    "    raw_df = calculate_rul(raw_df)\n",
    "\n",
    "    print(\"Dropping unused columns...\")\n",
    "    unused_columns = ['sensor_measurement_16', 'sensor_measurement_17']\n",
    "    raw_df = drop_unused_columns(raw_df, unused_columns)\n",
    "\n",
    "    print(\"Adding lag features...\")\n",
    "    sensor_columns = [col for col in raw_df.columns if 'sensor_measurement' in col]\n",
    "    raw_df = add_lag_features(raw_df, sensor_columns)\n",
    "\n",
    "    print(\"Adding rolling average features...\")\n",
    "    raw_df = add_rolling_features(raw_df, sensor_columns)\n",
    "\n",
    "    print(\"Adding interaction features...\")\n",
    "    raw_df = add_interaction_features(raw_df, sensor_columns)\n",
    "\n",
    "    print(\"Filling missing values...\")\n",
    "    raw_df.fillna(0, inplace=True)\n",
    "\n",
    "    print(\"Saving enhanced engineered features...\")\n",
    "    raw_df.to_csv(OUTPUT_FILE, index=False)\n",
    "\n",
    "    print(\"Enhanced feature engineering complete! File saved at:\", OUTPUT_FILE)"
   ]
  }
 ],
 "metadata": {
  "kernelspec": {
   "display_name": "base",
   "language": "python",
   "name": "python3"
  },
  "language_info": {
   "codemirror_mode": {
    "name": "ipython",
    "version": 3
   },
   "file_extension": ".py",
   "mimetype": "text/x-python",
   "name": "python",
   "nbconvert_exporter": "python",
   "pygments_lexer": "ipython3",
   "version": "3.12.7"
  }
 },
 "nbformat": 4,
 "nbformat_minor": 2
}
